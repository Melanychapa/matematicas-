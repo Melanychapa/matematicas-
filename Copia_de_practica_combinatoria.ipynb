{
  "nbformat": 4,
  "nbformat_minor": 0,
  "metadata": {
    "colab": {
      "provenance": [],
      "include_colab_link": true
    },
    "kernelspec": {
      "name": "python3",
      "display_name": "Python 3"
    },
    "language_info": {
      "name": "python"
    }
  },
  "cells": [
    {
      "cell_type": "markdown",
      "metadata": {
        "id": "view-in-github",
        "colab_type": "text"
      },
      "source": [
        "<a href=\"https://colab.research.google.com/github/Melanychapa/matematicas-/blob/main/Copia_de_practica_combinatoria.ipynb\" target=\"_parent\"><img src=\"https://colab.research.google.com/assets/colab-badge.svg\" alt=\"Open In Colab\"/></a>"
      ]
    },
    {
      "cell_type": "markdown",
      "source": [
        "# Práctica 1. Combinatoria\n",
        "Resuelva los siguientes apartados de la práctica.  \n",
        "La práctica 1.1 se proporciona solucionada para que pueda servir como ejemplo.\n",
        "\n"
      ],
      "metadata": {
        "id": "VP-PLgSCPtPC"
      }
    },
    {
      "cell_type": "markdown",
      "source": [
        "## Práctica 1.1\n",
        "Cuatro amigos:\n",
        "* Antonio (A)\n",
        "* Begoña (B)\n",
        "* Cesar (C)\n",
        "* Diana (D)\n",
        "\n",
        "constituyen una asociación y tienen que asignar los siguientes cargos:\n",
        "* Presiente (1)\n",
        "* Vicepresidente (2)\n",
        "* Secretario (3)\n",
        "* Tesorero (4)\n",
        "\n",
        "Se pide:\n",
        "1. Escribiendo la solución en una celda de Markdown analice el caso indicando si se trata de variaciones, permutaciones o combinaciones, con o sin repetición o el caso que sea, y el motivo para clasificar el caso de esta forma.\n",
        "2. Utilizando fórmulas de $\\LaTeX$ calcule cuántos casos existen.\n",
        "3. Cree un programa en Python para calcule cuántos casos existen.\n",
        "4. Cree un programa en Python para imprimir todas las posibilidades y numérelas. Por ejemplo:\n",
        "    - 1 ABCD\n",
        "    - 2 ABDC\n",
        "    - 3 ACBD\n",
        "    - &#20; &#20; &#20; ... ... ..."
      ],
      "metadata": {
        "id": "6oyoxqfbQJDC"
      }
    },
    {
      "cell_type": "markdown",
      "source": [
        "### Solución 1.1\n",
        "* Estamos ante un caso de **permutaciones sin repetición** ya que:\n",
        " - El orden importa, no es lo mismo estar el nº1 que significa ser presidente que el nº 4 que corresponde al tesorero.\n",
        " - Intervienen todos. Son 4 amigos para 4 cargos, todos tienen cargo, lo que cambiar es el orden, esto es, el cargo que obtengan.\n",
        " - No se repiten elementos. Una persona no puede tener dos cargos simultaneamente.\n",
        "* Los casos que se obtienen con las permutaciones sin repetición son $P_{n}=n!$ que para este ejemplo son:\n",
        "\n",
        "$$P_{4}=4!=4 \\cdot 3 \\cdot 2 \\cdot 1 = 24$$"
      ],
      "metadata": {
        "id": "t5unIqR7jdZR"
      }
    },
    {
      "cell_type": "code",
      "source": [
        "import math\n",
        "p = math.factorial(4)\n",
        "print(\"Los casos son: \", p)\n",
        "print(\"Comprobación:  \", 4*3*2*1)"
      ],
      "metadata": {
        "id": "va3_l_-hmFS-"
      },
      "execution_count": null,
      "outputs": []
    },
    {
      "cell_type": "markdown",
      "source": [
        "#### Método 1\n",
        "Sin usar librería."
      ],
      "metadata": {
        "id": "kOM3pEAGnh8v"
      }
    },
    {
      "cell_type": "code",
      "source": [
        "lista = ['A', 'B', 'C', 'D']\n",
        "contador = 1\n",
        "\n",
        "for i in lista:\n",
        "    for j in lista:\n",
        "        for k in lista:\n",
        "            for l in lista:\n",
        "                if i != j and i != k and i != l and j != k and j != l and k != l:\n",
        "                    print(f\"{contador:2d} →  {i+j+k+l}\")\n",
        "                    contador += 1"
      ],
      "metadata": {
        "id": "5--ZpSoJncj3"
      },
      "execution_count": null,
      "outputs": []
    },
    {
      "cell_type": "markdown",
      "source": [
        "#### Método 2\n",
        "* Usamos la función `permutations` de la librería `itertools`.\n",
        "* Imprimimos todas las permutaciones de los elementos de una lista."
      ],
      "metadata": {
        "id": "2PoCD5GlnwS1"
      }
    },
    {
      "cell_type": "code",
      "source": [
        "from itertools import permutations\n",
        "\n",
        "perm = permutations(['A','B','C','D'])   # obtenemos todas las permutaciones de la lista \n",
        "\n",
        "for i in list(perm):                     # imprimimos todas las permutaciones \n",
        "    print (*i)                           # con el asterisco se muestran las listas sin corchetes ni comas"
      ],
      "metadata": {
        "id": "eKkB1gQnn6_P"
      },
      "execution_count": null,
      "outputs": []
    },
    {
      "cell_type": "markdown",
      "source": [
        "## Práctica 1.2\n",
        "Cuatro amigos:\n",
        "* Antonio (A)\n",
        "* Begoña (B)\n",
        "* Cesar (C)\n",
        "* Diana (D)\n",
        "\n",
        "constituyen una asociación y tienen que asignar los siguientes cargos:\n",
        "* Presiente (1)\n",
        "* Secretario (3)\n",
        "* Tesorero (4)\n",
        "\n",
        "Se pide:\n",
        "1. Escribiendo la solución en una celda de Markdown analice el caso indicando si se trata de variaciones, permutaciones o combinaciones, con o sin repetición o el caso que sea, y el motivo para clasificar el caso de esta forma.\n",
        "2. Utilizando fórmulas de $\\LaTeX$ calcule cuántos casos existen.\n",
        "3. Cree un programa en Python para calcule cuántos casos existen.\n",
        "4. Cree un programa en Python para imprimir todas las posibilidades y numérelas. Por ejemplo:\n",
        "    - 1 ABC\n",
        "    - 2 ABD\n",
        "    - 3 ACB\n",
        "    - &#20; &#20; &#20; ... ... ..."
      ],
      "metadata": {
        "id": "sxSuCpAFSBPJ"
      }
    },
    {
      "cell_type": "markdown",
      "source": [
        "### Solución 1.2"
      ],
      "metadata": {
        "id": "xx9qsw_ej9Pd"
      }
    },
    {
      "cell_type": "markdown",
      "source": [
        "se trata de unas permutaciones sin repeticiones , pues el orden importan , no es lo mismo ser presidente que secretario, de tal manera que solo puede haber un cargo por persona."
      ],
      "metadata": {
        "id": "JGRidh4cYgrI"
      }
    },
    {
      "cell_type": "code",
      "source": [
        "import math\n",
        "p = math.factorial(4)\n",
        "print(\"Los casos son: \", p)\n",
        "print(\"Comprobación:  \", 4*3*1)\n"
      ],
      "metadata": {
        "id": "1KdfuRVPZ96-",
        "outputId": "b279a67b-1b11-48fa-8882-b61ea69376f9",
        "colab": {
          "base_uri": "https://localhost:8080/"
        }
      },
      "execution_count": null,
      "outputs": [
        {
          "output_type": "stream",
          "name": "stdout",
          "text": [
            "Los casos son:  24\n",
            "Comprobación:   12\n"
          ]
        }
      ]
    },
    {
      "cell_type": "code",
      "source": [
        "lista = ['A', 'C', 'D']\n",
        "contador = 1\n",
        "\n",
        "for i in lista:\n",
        "        for k in lista:\n",
        "            for l in lista:\n",
        "               i != k and i != l  and k != l\n",
        "        print(f\"{contador:2d} →  {i+k+l}\")\n",
        "    \n",
        "        contador += 1"
      ],
      "metadata": {
        "id": "8-2iZCC7azfy",
        "outputId": "e965a012-95c4-411e-aa20-382e9c8cf136",
        "colab": {
          "base_uri": "https://localhost:8080/"
        }
      },
      "execution_count": null,
      "outputs": [
        {
          "output_type": "stream",
          "name": "stdout",
          "text": [
            " 1 →  ADD\n",
            " 2 →  CDD\n",
            " 3 →  DDD\n"
          ]
        }
      ]
    },
    {
      "cell_type": "code",
      "source": [
        "from itertools import permutations\n",
        "\n",
        "perm = permutations(['A','C','D'])   # obtenemos todas las permutaciones de la lista \n",
        "\n",
        "for i in list(perm):                     # imprimimos todas las permutaciones \n",
        "    print (*i)                           # con el asterisco se muestran las listas sin corchetes ni comas"
      ],
      "metadata": {
        "id": "_4GQTLVeZ5Z7"
      },
      "execution_count": null,
      "outputs": []
    },
    {
      "cell_type": "markdown",
      "source": [
        "## Práctica 1.3\n",
        "Invente un caso de **variaciones sin repetición**.\n",
        "Se pide contestar a los mismos puntos que el caso anterior."
      ],
      "metadata": {
        "id": "D0S1DjF4MKmz"
      }
    },
    {
      "cell_type": "markdown",
      "source": [],
      "metadata": {
        "id": "cWw99zxsYuV6"
      }
    },
    {
      "cell_type": "markdown",
      "source": [
        "### Solución 1.3"
      ],
      "metadata": {
        "id": "AfyuPIASj_20"
      }
    },
    {
      "cell_type": "markdown",
      "source": [
        "3 amigos hacen una carrera de natación, y quieren conseguir una medalla (oro,plata y bronce), de cuantas formas pueden llegar."
      ],
      "metadata": {
        "id": "w-gROc0eKPDh"
      }
    },
    {
      "cell_type": "code",
      "source": [
        "import itertools\n",
        "it = itertools.permutations(['a','b','c'],3)\n",
        "li = list(it)\n",
        "print(li)\n",
        "\n",
        "print()\n",
        "\n",
        "for i in range(len(li)):\n",
        "    #print(\"Variación\", i+1,\":\", *li[i])\n",
        "    #print(f\"Variación {i+1:2d}:  {li[i]}\")\n",
        "    print(f\"Variación {i+1:2d}: \", *li[i])"
      ],
      "metadata": {
        "id": "NAYZ-AfEYAnE",
        "colab": {
          "base_uri": "https://localhost:8080/"
        },
        "outputId": "efbe41b0-7653-4e12-ac7b-4830b39b4928"
      },
      "execution_count": null,
      "outputs": [
        {
          "output_type": "stream",
          "name": "stdout",
          "text": [
            "[('a', 'b', 'c'), ('a', 'c', 'b'), ('b', 'a', 'c'), ('b', 'c', 'a'), ('c', 'a', 'b'), ('c', 'b', 'a')]\n",
            "\n",
            "Variación  1:  a b c\n",
            "Variación  2:  a c b\n",
            "Variación  3:  b a c\n",
            "Variación  4:  b c a\n",
            "Variación  5:  c a b\n",
            "Variación  6:  c b a\n"
          ]
        }
      ]
    },
    {
      "cell_type": "markdown",
      "source": [
        "## Práctica 1.4\n",
        "Invente un caso de **variaciones con repetición**.\n",
        "Se pide contestar a los mismos puntos que el caso anterior."
      ],
      "metadata": {
        "id": "gvlnqCaRMTua"
      }
    },
    {
      "cell_type": "markdown",
      "source": [
        "### Solución 1.4"
      ],
      "metadata": {
        "id": "hzvsgRDbkCy1"
      }
    },
    {
      "cell_type": "markdown",
      "source": [
        "Tenemos 5 números, estos son: 1,2,3,4,5\n",
        "¿Cúantas variaciones de 3 número podemos encontrar?"
      ],
      "metadata": {
        "id": "zOYYd7cZZgLR"
      }
    },
    {
      "cell_type": "code",
      "source": [
        "import math\n",
        "p = math.factorial(3)\n",
        "print(\"Los casos son: \", p)\n",
        "print(\"Comprobación:  \", 5*4*3*2*1)"
      ],
      "metadata": {
        "id": "51zH0NfHZg_e"
      },
      "execution_count": null,
      "outputs": []
    },
    {
      "cell_type": "code",
      "source": [
        "lista = ['1', '2', '3', '4','5' ]\n",
        "contador = 1\n",
        "\n",
        "for i in lista:\n",
        "    for j in lista:\n",
        "        for k in lista:\n",
        "              if i != j and i != k and j != k :\n",
        "                    print(f\"{contador:2d} →  {i+j+k}\")\n",
        "                    contador += 1"
      ],
      "metadata": {
        "id": "g3NaMENaZ-HB"
      },
      "execution_count": null,
      "outputs": []
    },
    {
      "cell_type": "code",
      "source": [
        " import itertools \n",
        "\n",
        " itertools= (['1','2','3','4','5'])   # obtenemos todas las itertools  de la lista \n",
        "\n",
        "for i in list(itertools):                     # imprimimos todas las itertools \n",
        "    print (*i)                           # con el asterisco se muestran las listas sin corchetes ni comas"
      ],
      "metadata": {
        "id": "V4vl09-CberC"
      },
      "execution_count": null,
      "outputs": []
    },
    {
      "cell_type": "markdown",
      "source": [
        "## Práctica 1.5\n",
        "Invente un caso de **permutaciones sin repetición**.\n",
        "Se pide contestar a los mismos puntos que el caso anterior."
      ],
      "metadata": {
        "id": "0OCAC-I-G5F6"
      }
    },
    {
      "cell_type": "markdown",
      "source": [
        "### Solución 1.5"
      ],
      "metadata": {
        "id": "FvLcj6XXkFOV"
      }
    },
    {
      "cell_type": "markdown",
      "source": [
        "se quiere abrir un restaurante entre 3 amigos.\n",
        "\n",
        "A(Alba)\n",
        "\n",
        "B(Bruno)\n",
        "\n",
        "C(carlos)\n",
        "\n",
        "para que el restaurante funcione cada uno debe encargarse de un puesto:\n",
        "\n",
        "Cocinero (1)\n",
        "\n",
        "camarero (2)\n",
        "\n",
        "cajero (3)"
      ],
      "metadata": {
        "id": "f2fVdMqfE9Bu"
      }
    },
    {
      "cell_type": "code",
      "source": [
        "import math\n",
        "p = math.factorial(3)\n",
        "print(\"Los casos son: \", p)\n",
        "print(\"Comprobación:  \", 3*2*1)\n"
      ],
      "metadata": {
        "id": "UEvejGLSTOPN"
      },
      "execution_count": null,
      "outputs": []
    },
    {
      "cell_type": "code",
      "source": [
        "lista = ['A', 'B', 'C']\n",
        "contador = 1\n",
        "\n",
        "for i in lista:\n",
        "    for j in lista:\n",
        "        for k in lista:\n",
        "              if i != j and i != k and j != k :\n",
        "                    print(f\"{contador:2d} →  {i+j+k}\")\n",
        "                    contador += 1"
      ],
      "metadata": {
        "id": "pThN00r5WoWE"
      },
      "execution_count": null,
      "outputs": []
    },
    {
      "cell_type": "code",
      "source": [
        "from itertools import permutations\n",
        "\n",
        "perm = permutations(['A','B','C'])   # obtenemos todas las permutaciones de la lista \n",
        "\n",
        "for i in list(perm):                     # imprimimos todas las permutaciones \n",
        "    print (*i)                           # con el asterisco se muestran las listas sin corchetes ni comas"
      ],
      "metadata": {
        "id": "0RInCiAWXAfc"
      },
      "execution_count": null,
      "outputs": []
    },
    {
      "cell_type": "markdown",
      "source": [
        "## Práctica 1.6\n",
        "Invente un caso de **permutaciones con repetición**.\n",
        "Se pide contestar a los mismos puntos que el caso anterior."
      ],
      "metadata": {
        "id": "YWUXIczqLj3W"
      }
    },
    {
      "cell_type": "markdown",
      "source": [
        "¿Cúantas palabras de 5 letras pueden formarse utilizando 3 veces la letra A y 2 veces la letra B?"
      ],
      "metadata": {
        "id": "VLWV8PLldn9-"
      }
    },
    {
      "cell_type": "markdown",
      "source": [
        "Número de elementos:5\n",
        "\n",
        "Numero de elementos por letra:5\n",
        "\n",
        "Sí importa el orden,y se pueden repetir (3,2)\n"
      ],
      "metadata": {
        "id": "pbHOSJICeI-r"
      }
    },
    {
      "cell_type": "code",
      "source": [
        "import math\n",
        "p = math.factorial(5)\n",
        "print(\"Los casos son: \", p)\n",
        "print(\"Comprobación:  \", 5*4*3*2*1)"
      ],
      "metadata": {
        "id": "3iLiV-4nemTi"
      },
      "execution_count": null,
      "outputs": []
    },
    {
      "cell_type": "code",
      "source": [
        "lista = ['A', 'B', 'A', 'A','B']\n",
        "contador = 1\n",
        "\n",
        "for i in lista:\n",
        "    for j in lista:\n",
        "        for k in lista:\n",
        "            for l in lista:\n",
        "                for m in lista:\n",
        "                  if i != j and i != k and i != l and j != k and j != l and k != l and i != m  and k != m and m != l and j != m:\n",
        "                    print(f\"{contador:2d} →  {i+j+k+l+m}\")\n",
        "                    contador += 1"
      ],
      "metadata": {
        "id": "PhXpogKdfIOW"
      },
      "execution_count": null,
      "outputs": []
    },
    {
      "cell_type": "markdown",
      "source": [
        "### Solución 1.6"
      ],
      "metadata": {
        "id": "siAxWVVekHs6"
      }
    },
    {
      "cell_type": "markdown",
      "source": [
        "## Práctica 1.7\n",
        "Invente un caso de **combinaciones sin repetición**.\n",
        "Se pide contestar a los mismos puntos que el caso anterior."
      ],
      "metadata": {
        "id": "opCrIDtJGg1R"
      }
    },
    {
      "cell_type": "markdown",
      "source": [
        "### Solución 1.7"
      ],
      "metadata": {
        "id": "Zs46BsRnkJcl"
      }
    },
    {
      "cell_type": "markdown",
      "source": [
        "Dados estos 7 números pares (2,4,6,8,10,12,14), deseamos saber cuantas contraseñas de 5 números sin repetición se pueden construir. Muestre todos los casos posibles."
      ],
      "metadata": {
        "id": "VPkz5UE9W0RX"
      }
    },
    {
      "cell_type": "code",
      "source": [
        "from itertools import combinations\n",
        "from math import factorial\n",
        "\n",
        "numeros = '2,4,6,8,10,12,14'\n",
        "m = len(numeros)\n",
        "n = 5\n",
        "c = combinations(numeros, n)\n",
        "\n",
        "for i in c:\n",
        "    print(*i)\n",
        "\n",
        "print(f\"Las Combinaciones de {m} elementos tomados de {n} en {n} son: {int(factorial(m)/factorial(n)/factorial(m-n))}\")"
      ],
      "metadata": {
        "id": "ja0qxxU_XQWQ"
      },
      "execution_count": null,
      "outputs": []
    },
    {
      "cell_type": "markdown",
      "source": [
        "## Práctica 1.8\n",
        "Invente un caso de **combinaciones con repetición**.\n",
        "Se pide contestar a los mismos puntos que el caso anterior."
      ],
      "metadata": {
        "id": "-7Y5WWlDGzAR"
      }
    },
    {
      "cell_type": "markdown",
      "source": [
        "### Solución 1.8"
      ],
      "metadata": {
        "id": "ReRULqd8kL1F"
      }
    },
    {
      "cell_type": "markdown",
      "source": [
        "María y alejandro se van a comer una pizza.\n",
        "Esa pizza solo puede tener 3 ingredientes de los 5 que tiene la tienda, no importa si el ingrediente se repite.\n",
        "\n",
        "Dichos ingredientes son:\n",
        "\n",
        "pollo\n",
        "\n",
        "bacon\n",
        "\n",
        "queso\n",
        "\n",
        "ternera\n",
        "\n",
        "salsa barbacoa"
      ],
      "metadata": {
        "id": "FgOgkAZSQJ9o"
      }
    },
    {
      "cell_type": "code",
      "source": [
        "from itertools import combinations_with_replacement\n",
        "c = combinations_with_replacement('P B Q T S', 3)\n",
        "\n",
        "for i in c:\n",
        "    print(*i)\n",
        "\n",
        "m = 5\n",
        "n = 3\n",
        "print(f\"Los casos que se obtienen son {int(factorial(m+n-1)/factorial(n)/factorial(m-1))}\")"
      ],
      "metadata": {
        "id": "8R2nTrpIQIUX"
      },
      "execution_count": null,
      "outputs": []
    },
    {
      "cell_type": "markdown",
      "source": [
        "## Práctica 1.9\n",
        "En el gobierno se crea una unidad de crisis formada por el presidente (P) y 4 ministros (A,B,C,D) que se reúnen sentados alrededor de una **mesa redonda**.\n",
        "\n",
        "Se pide:  \n",
        "1. Calcule de cuantas formas pueden llegar a sentarse si el ministro de defensa (D) siempre ha de estar al lado del presidente (P). Escriba la solución en una celda de Markdown utilizando fórmulas en $\\LaTeX$  explicando el caso.\n",
        "2. Cree un programa en Python para calcular el número de casos que se pueden dar al sentarse en la mesa.\n",
        "3. Cree un programa en Python para imprimir todas las posibilidades y numérelas. Por ejemplo:\n",
        "    - 1 PDABC\n",
        "    - 2 PDACB\n",
        "    - 3 PDBCD\n",
        "    - 4 PDBDC\n",
        "    - 5 PDCAB\n",
        "    - 6 PDCBA\n",
        "    - 7 DPABC\n",
        "    - 8 DPACB\n",
        "    - &#20; &#20; &#20; ... ... ...\n"
      ],
      "metadata": {
        "id": "SOzxh_YgHnDG"
      }
    },
    {
      "cell_type": "markdown",
      "source": [
        "### Solución 1.9"
      ],
      "metadata": {
        "id": "F8kV034OkQZX"
      }
    },
    {
      "cell_type": "code",
      "source": [
        "import math\n",
        "\n",
        "print(f\"Los casos tanto para PD y DP son: {int(math.factorial(4-1) )}\")\n",
        "print(f\"Los casos totales al sumarlos son: {int(6+6)}\")"
      ],
      "metadata": {
        "id": "VS_i8Fnm9TUs"
      },
      "execution_count": null,
      "outputs": []
    },
    {
      "cell_type": "code",
      "source": [
        "from itertools import permutations\n",
        "\n",
        "p = list(permutations('ABC'))   # lista de permutaciones de 3 elementos\n",
        "\n",
        "\n",
        "\n",
        "texto = 'ABC'   # inicializamos una variable texto que es un string vacío que luego iremos concatenando\n",
        "\n",
        "for v in p:\n",
        "\n",
        "    texto += 'PD' + ''.join(v) + ','   # El ministro de Defensa (D) se sienta a un lado del Presidente (P)\n",
        "\n",
        "for v in p:\n",
        "\n",
        "    texto += 'DP' + ''.join(v) + ','   # El ministro de Defensa (D) se sienta al otro lado del Presidente (P)\n",
        "\n",
        "\n",
        "\n",
        "print(texto[:-1])   # así evitamos imprimir la última coma"
      ],
      "metadata": {
        "id": "Kq_iHN8-9c07"
      },
      "execution_count": null,
      "outputs": []
    },
    {
      "cell_type": "markdown",
      "source": [
        "## Práctica 1.10\n",
        "* Realice una breve explicación teórica del **triángulo de Pascal**, o también llamado triángulo de Tartaglia, y de las fórmulas de los números combinatorios.\n",
        "* Cree un programa en Python para hacer el triángulo de Pascal."
      ],
      "metadata": {
        "id": "eiHdMOP-MkrZ"
      }
    },
    {
      "cell_type": "markdown",
      "source": [
        "### Solución 1.10"
      ],
      "metadata": {
        "id": "j0UT2579kTSM"
      }
    },
    {
      "cell_type": "markdown",
      "source": [
        "es una representación de los coeficientes binomiales ordenados en forma de triángulo. Es llamado así en honor al filósofo y matemático  Blaise Pascal, el cual consiste en incluir un número en la primera fila y en las filas siguientes se van colocando números de forma que cada uno de ellos sea la suma de los dos números que tiene encima, cya utilidad se ve reflejada  en las  probabilidades de combinaciones"
      ],
      "metadata": {
        "id": "MFFjjivqz5J0"
      }
    },
    {
      "cell_type": "code",
      "source": [
        "def pascal_tri(numRows):\n",
        "  '''Print Pascal's triangle with numRows.'''\n",
        "  for i in range(numRows):\n",
        "    # loop to get leading spaces\n",
        "\t  for j in range(numRows-i+1):\n",
        "\t\t  print(end=\" \")\n",
        "    \n",
        "    # loop to get elements of row i\n",
        "\t  for j in range(i+1):\n",
        "\t\t  # nCr = n!/((n-r)!*r!)\n",
        "\t\t  print(factorial(i)//(factorial(j)*factorial(i-j)), end=\" \")\n",
        "\n",
        "\t # print each row in a new line\n",
        "\t  print(\"\\n\")"
      ],
      "metadata": {
        "id": "6FBmwOzd2TSH"
      },
      "execution_count": null,
      "outputs": []
    }
  ]
}